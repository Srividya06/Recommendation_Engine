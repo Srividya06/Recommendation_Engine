{
 "cells": [
  {
   "cell_type": "markdown",
   "metadata": {},
   "source": [
    "Online Judge Platforms is a recommendation system where in the programmer is presented with a question based on his/her expertise.This model will help online judges to decide the next level of questions to recommend to a user.\n",
    "The goal of this challenge is to predict range of attempts a user will make to solve a given problem given user and problem details."
   ]
  },
  {
   "cell_type": "markdown",
   "metadata": {},
   "source": [
    "import the required packages\n"
   ]
  },
  {
   "cell_type": "code",
   "execution_count": 46,
   "metadata": {},
   "outputs": [],
   "source": [
    "import numpy as np\n",
    "import pandas as pd\n",
    "import matplotlib.pyplot as plt\n",
    "import seaborn as sns\n",
    "from sklearn import preprocessing\n",
    "from sklearn.model_selection import train_test_split\n",
    "from sklearn.linear_model import LogisticRegression\n",
    "from sklearn.metrics import f1_score\n",
    "from sklearn.preprocessing import StandardScaler\n",
    "from sklearn.ensemble import RandomForestClassifier\n",
    "from sklearn.metrics import confusion_matrix\n",
    "from sklearn.feature_selection import SelectKBest\n",
    "from sklearn.feature_selection import chi2\n",
    "from sklearn.model_selection import KFold"
   ]
  },
  {
   "cell_type": "markdown",
   "metadata": {},
   "source": [
    "Read the train and test data"
   ]
  },
  {
   "cell_type": "code",
   "execution_count": 47,
   "metadata": {},
   "outputs": [],
   "source": [
    "train_problem_data_orig = pd.read_csv(\"C:/Python/Recommendation_Engine/data/train/problem_data.csv\")\n",
    "train_submission_data_orig = pd.read_csv(\"C:/Python/Recommendation_Engine/data/train/train_submissions.csv\")\n",
    "train_user_data_orig = pd.read_csv(\"C:/Python/Recommendation_Engine/data/train/user_data.csv\")\n",
    "test_submission_data_orig = pd.read_csv(\"C:/Python/Recommendation_Engine/data/test_submissions.csv\")"
   ]
  },
  {
   "cell_type": "markdown",
   "metadata": {},
   "source": [
    "Data Viewing and preprocessing\n"
   ]
  },
  {
   "cell_type": "code",
   "execution_count": 48,
   "metadata": {},
   "outputs": [
    {
     "data": {
      "text/plain": [
       "['problem_id', 'level_type', 'points', 'tags']"
      ]
     },
     "execution_count": 48,
     "metadata": {},
     "output_type": "execute_result"
    }
   ],
   "source": [
    "list(train_problem_data_orig)"
   ]
  },
  {
   "cell_type": "code",
   "execution_count": 49,
   "metadata": {},
   "outputs": [
    {
     "data": {
      "text/plain": [
       "['user_id', 'problem_id', 'attempts_range']"
      ]
     },
     "execution_count": 49,
     "metadata": {},
     "output_type": "execute_result"
    }
   ],
   "source": [
    "list(train_submission_data_orig)"
   ]
  },
  {
   "cell_type": "code",
   "execution_count": 50,
   "metadata": {},
   "outputs": [
    {
     "data": {
      "text/plain": [
       "['user_id',\n",
       " 'submission_count',\n",
       " 'problem_solved',\n",
       " 'contribution',\n",
       " 'country',\n",
       " 'follower_count',\n",
       " 'last_online_time_seconds',\n",
       " 'max_rating',\n",
       " 'rating',\n",
       " 'rank',\n",
       " 'registration_time_seconds']"
      ]
     },
     "execution_count": 50,
     "metadata": {},
     "output_type": "execute_result"
    }
   ],
   "source": [
    "list(train_user_data_orig)"
   ]
  },
  {
   "cell_type": "code",
   "execution_count": 51,
   "metadata": {},
   "outputs": [
    {
     "data": {
      "text/plain": [
       "['ID', 'user_id', 'problem_id']"
      ]
     },
     "execution_count": 51,
     "metadata": {},
     "output_type": "execute_result"
    }
   ],
   "source": [
    "list(test_submission_data_orig)"
   ]
  },
  {
   "cell_type": "code",
   "execution_count": 52,
   "metadata": {},
   "outputs": [
    {
     "name": "stdout",
     "output_type": "stream",
     "text": [
      "<class 'pandas.core.frame.DataFrame'>\n",
      "RangeIndex: 6544 entries, 0 to 6543\n",
      "Data columns (total 4 columns):\n",
      "problem_id    6544 non-null object\n",
      "level_type    6411 non-null object\n",
      "points        2627 non-null float64\n",
      "tags          3060 non-null object\n",
      "dtypes: float64(1), object(3)\n",
      "memory usage: 204.6+ KB\n"
     ]
    }
   ],
   "source": [
    "train_problem_data_orig.info()"
   ]
  },
  {
   "cell_type": "code",
   "execution_count": 53,
   "metadata": {},
   "outputs": [
    {
     "data": {
      "text/html": [
       "<div>\n",
       "<style scoped>\n",
       "    .dataframe tbody tr th:only-of-type {\n",
       "        vertical-align: middle;\n",
       "    }\n",
       "\n",
       "    .dataframe tbody tr th {\n",
       "        vertical-align: top;\n",
       "    }\n",
       "\n",
       "    .dataframe thead th {\n",
       "        text-align: right;\n",
       "    }\n",
       "</style>\n",
       "<table border=\"1\" class=\"dataframe\">\n",
       "  <thead>\n",
       "    <tr style=\"text-align: right;\">\n",
       "      <th></th>\n",
       "      <th>problem_id</th>\n",
       "      <th>level_type</th>\n",
       "      <th>points</th>\n",
       "      <th>tags</th>\n",
       "    </tr>\n",
       "  </thead>\n",
       "  <tbody>\n",
       "    <tr>\n",
       "      <th>count</th>\n",
       "      <td>6544</td>\n",
       "      <td>6411</td>\n",
       "      <td>2627.000000</td>\n",
       "      <td>3060</td>\n",
       "    </tr>\n",
       "    <tr>\n",
       "      <th>unique</th>\n",
       "      <td>6544</td>\n",
       "      <td>14</td>\n",
       "      <td>NaN</td>\n",
       "      <td>882</td>\n",
       "    </tr>\n",
       "    <tr>\n",
       "      <th>top</th>\n",
       "      <td>prob_5327</td>\n",
       "      <td>A</td>\n",
       "      <td>NaN</td>\n",
       "      <td>implementation</td>\n",
       "    </tr>\n",
       "    <tr>\n",
       "      <th>freq</th>\n",
       "      <td>1</td>\n",
       "      <td>1042</td>\n",
       "      <td>NaN</td>\n",
       "      <td>297</td>\n",
       "    </tr>\n",
       "    <tr>\n",
       "      <th>mean</th>\n",
       "      <td>NaN</td>\n",
       "      <td>NaN</td>\n",
       "      <td>1452.381804</td>\n",
       "      <td>NaN</td>\n",
       "    </tr>\n",
       "    <tr>\n",
       "      <th>std</th>\n",
       "      <td>NaN</td>\n",
       "      <td>NaN</td>\n",
       "      <td>789.542461</td>\n",
       "      <td>NaN</td>\n",
       "    </tr>\n",
       "    <tr>\n",
       "      <th>min</th>\n",
       "      <td>NaN</td>\n",
       "      <td>NaN</td>\n",
       "      <td>-1.000000</td>\n",
       "      <td>NaN</td>\n",
       "    </tr>\n",
       "    <tr>\n",
       "      <th>25%</th>\n",
       "      <td>NaN</td>\n",
       "      <td>NaN</td>\n",
       "      <td>1000.000000</td>\n",
       "      <td>NaN</td>\n",
       "    </tr>\n",
       "    <tr>\n",
       "      <th>50%</th>\n",
       "      <td>NaN</td>\n",
       "      <td>NaN</td>\n",
       "      <td>1500.000000</td>\n",
       "      <td>NaN</td>\n",
       "    </tr>\n",
       "    <tr>\n",
       "      <th>75%</th>\n",
       "      <td>NaN</td>\n",
       "      <td>NaN</td>\n",
       "      <td>2000.000000</td>\n",
       "      <td>NaN</td>\n",
       "    </tr>\n",
       "    <tr>\n",
       "      <th>max</th>\n",
       "      <td>NaN</td>\n",
       "      <td>NaN</td>\n",
       "      <td>5000.000000</td>\n",
       "      <td>NaN</td>\n",
       "    </tr>\n",
       "  </tbody>\n",
       "</table>\n",
       "</div>"
      ],
      "text/plain": [
       "       problem_id level_type       points            tags\n",
       "count        6544       6411  2627.000000            3060\n",
       "unique       6544         14          NaN             882\n",
       "top     prob_5327          A          NaN  implementation\n",
       "freq            1       1042          NaN             297\n",
       "mean          NaN        NaN  1452.381804             NaN\n",
       "std           NaN        NaN   789.542461             NaN\n",
       "min           NaN        NaN    -1.000000             NaN\n",
       "25%           NaN        NaN  1000.000000             NaN\n",
       "50%           NaN        NaN  1500.000000             NaN\n",
       "75%           NaN        NaN  2000.000000             NaN\n",
       "max           NaN        NaN  5000.000000             NaN"
      ]
     },
     "execution_count": 53,
     "metadata": {},
     "output_type": "execute_result"
    }
   ],
   "source": [
    "train_problem_data_orig.describe(include='all')"
   ]
  },
  {
   "cell_type": "code",
   "execution_count": 54,
   "metadata": {},
   "outputs": [
    {
     "data": {
      "text/plain": [
       "problem_id       0\n",
       "level_type     133\n",
       "points        3917\n",
       "tags          3484\n",
       "dtype: int64"
      ]
     },
     "execution_count": 54,
     "metadata": {},
     "output_type": "execute_result"
    }
   ],
   "source": [
    "train_problem_data_orig.isnull().sum()"
   ]
  },
  {
   "cell_type": "code",
   "execution_count": 55,
   "metadata": {},
   "outputs": [],
   "source": [
    "# The points column had a lot of missing values, based on the values present assuming the points increases by 500 every level\n",
    "#create dictionary for points\n",
    "points_dict={\"A\":500,\"B\":1000,\"C\":1500,\"D\":2000,\"E\":2500,\"F\":3000,\"G\":3500,\"H\":4000,\"I\":4500,\"J\":5000,\"K\":5500,\"L\":6000,\"M\":6500,\"N\":7000}"
   ]
  },
  {
   "cell_type": "code",
   "execution_count": 56,
   "metadata": {},
   "outputs": [],
   "source": [
    "train_problem_data = train_problem_data_orig.copy()\n",
    "#Drop the fields points and tags as more than 50% data are not available\n",
    "train_problem_data = train_problem_data.drop(['tags'],axis=1)\n",
    "train_problem_data['level_type'] = train_problem_data['level_type'].fillna('A')\n",
    "\n",
    "train_problem_data['points'] = list(map(lambda x: points_dict[x],train_problem_data['level_type']))\n",
    "\n",
    "enc = preprocessing.LabelEncoder()\n",
    "train_problem_data['level_type'] = enc.fit_transform(train_problem_data['level_type'])\n",
    "\n",
    "train_problem_data['problem_id'] = list(map(lambda x: int(x.split('_')[1]),train_problem_data['problem_id']))\n"
   ]
  },
  {
   "cell_type": "code",
   "execution_count": 57,
   "metadata": {},
   "outputs": [
    {
     "name": "stdout",
     "output_type": "stream",
     "text": [
      "<class 'pandas.core.frame.DataFrame'>\n",
      "RangeIndex: 3571 entries, 0 to 3570\n",
      "Data columns (total 11 columns):\n",
      "user_id                      3571 non-null object\n",
      "submission_count             3571 non-null int64\n",
      "problem_solved               3571 non-null int64\n",
      "contribution                 3571 non-null int64\n",
      "country                      2418 non-null object\n",
      "follower_count               3571 non-null int64\n",
      "last_online_time_seconds     3571 non-null int64\n",
      "max_rating                   3571 non-null float64\n",
      "rating                       3571 non-null float64\n",
      "rank                         3571 non-null object\n",
      "registration_time_seconds    3571 non-null int64\n",
      "dtypes: float64(2), int64(6), object(3)\n",
      "memory usage: 307.0+ KB\n"
     ]
    }
   ],
   "source": [
    "train_user_data_orig.info()\n"
   ]
  },
  {
   "cell_type": "code",
   "execution_count": 58,
   "metadata": {},
   "outputs": [
    {
     "data": {
      "text/plain": [
       "user_id             0\n",
       "submission_count    0\n",
       "problem_solved      0\n",
       "contribution        0\n",
       "max_rating          0\n",
       "rating              0\n",
       "rank                0\n",
       "dtype: int64"
      ]
     },
     "execution_count": 58,
     "metadata": {},
     "output_type": "execute_result"
    }
   ],
   "source": [
    "#train_user_data_orig.describe(include='all')\n",
    "train_user_data = train_user_data_orig.copy()\n",
    "train_user_data = train_user_data.drop(['country','follower_count','last_online_time_seconds','registration_time_seconds'],axis=1)\n",
    "#train_user_data = train_user_data.drop(['country','follower_count'],axis=1)\n",
    "train_user_data.describe(include='all')\n",
    "train_user_data.isnull().sum()"
   ]
  },
  {
   "cell_type": "code",
   "execution_count": 59,
   "metadata": {},
   "outputs": [
    {
     "name": "stdout",
     "output_type": "stream",
     "text": [
      "beginner        1509\n",
      "intermediate    1410\n",
      "advanced         570\n",
      "expert            82\n",
      "Name: rank, dtype: int64\n",
      "rank\n",
      "advanced         543.600000\n",
      "beginner         117.060305\n",
      "expert          1042.890244\n",
      "intermediate     272.792908\n",
      "Name: problem_solved, dtype: float64\n"
     ]
    }
   ],
   "source": [
    "print(train_user_data['rank'].value_counts())\n",
    "rank_group = train_user_data.groupby('rank')\n",
    "#print(rank_group.groups)\n",
    "\n",
    "#for name,group in rank_group:\n",
    "print (rank_group['problem_solved'].agg(np.mean))\n",
    "    \n",
    "    \n"
   ]
  },
  {
   "cell_type": "code",
   "execution_count": 60,
   "metadata": {},
   "outputs": [],
   "source": [
    "\n",
    "#if contribution is negative change to 0\n",
    "train_user_data['contribution'] = list(map(lambda x: 0 if (x < 0)  else x,train_user_data['contribution']))\n",
    "#Check if submission_count >= problem_count\n",
    "train_user_data['submission_count']=list(map(lambda x,y: y if x < y else x,train_user_data['submission_count'],train_user_data['problem_solved']))\n",
    "#Encode the categorical varaible rank\n",
    "rank_encoding = pd.get_dummies(train_user_data['rank'], prefix='rank')\n",
    "#add the new encoded values to data and remove the categorical field\n",
    "train_user_data = pd.concat([train_user_data,rank_encoding],axis=1)\n",
    "train_user_data= train_user_data.drop(['rank'],axis=1)\n",
    "#remove the prefix user_ from user id and change it to integer\n",
    "train_user_data['user_id'] = list(map(lambda x: int(x.split('_')[1]),train_user_data['user_id']))"
   ]
  },
  {
   "cell_type": "code",
   "execution_count": 61,
   "metadata": {},
   "outputs": [
    {
     "data": {
      "text/html": [
       "<div>\n",
       "<style scoped>\n",
       "    .dataframe tbody tr th:only-of-type {\n",
       "        vertical-align: middle;\n",
       "    }\n",
       "\n",
       "    .dataframe tbody tr th {\n",
       "        vertical-align: top;\n",
       "    }\n",
       "\n",
       "    .dataframe thead th {\n",
       "        text-align: right;\n",
       "    }\n",
       "</style>\n",
       "<table border=\"1\" class=\"dataframe\">\n",
       "  <thead>\n",
       "    <tr style=\"text-align: right;\">\n",
       "      <th></th>\n",
       "      <th>user_id</th>\n",
       "      <th>problem_id</th>\n",
       "      <th>attempts_range</th>\n",
       "    </tr>\n",
       "  </thead>\n",
       "  <tbody>\n",
       "    <tr>\n",
       "      <th>count</th>\n",
       "      <td>155295</td>\n",
       "      <td>155295</td>\n",
       "      <td>155295.000000</td>\n",
       "    </tr>\n",
       "    <tr>\n",
       "      <th>unique</th>\n",
       "      <td>3529</td>\n",
       "      <td>5776</td>\n",
       "      <td>NaN</td>\n",
       "    </tr>\n",
       "    <tr>\n",
       "      <th>top</th>\n",
       "      <td>user_1009</td>\n",
       "      <td>prob_5071</td>\n",
       "      <td>NaN</td>\n",
       "    </tr>\n",
       "    <tr>\n",
       "      <th>freq</th>\n",
       "      <td>105</td>\n",
       "      <td>1365</td>\n",
       "      <td>NaN</td>\n",
       "    </tr>\n",
       "    <tr>\n",
       "      <th>mean</th>\n",
       "      <td>NaN</td>\n",
       "      <td>NaN</td>\n",
       "      <td>1.755028</td>\n",
       "    </tr>\n",
       "    <tr>\n",
       "      <th>std</th>\n",
       "      <td>NaN</td>\n",
       "      <td>NaN</td>\n",
       "      <td>1.078450</td>\n",
       "    </tr>\n",
       "    <tr>\n",
       "      <th>min</th>\n",
       "      <td>NaN</td>\n",
       "      <td>NaN</td>\n",
       "      <td>1.000000</td>\n",
       "    </tr>\n",
       "    <tr>\n",
       "      <th>25%</th>\n",
       "      <td>NaN</td>\n",
       "      <td>NaN</td>\n",
       "      <td>1.000000</td>\n",
       "    </tr>\n",
       "    <tr>\n",
       "      <th>50%</th>\n",
       "      <td>NaN</td>\n",
       "      <td>NaN</td>\n",
       "      <td>1.000000</td>\n",
       "    </tr>\n",
       "    <tr>\n",
       "      <th>75%</th>\n",
       "      <td>NaN</td>\n",
       "      <td>NaN</td>\n",
       "      <td>2.000000</td>\n",
       "    </tr>\n",
       "    <tr>\n",
       "      <th>max</th>\n",
       "      <td>NaN</td>\n",
       "      <td>NaN</td>\n",
       "      <td>6.000000</td>\n",
       "    </tr>\n",
       "  </tbody>\n",
       "</table>\n",
       "</div>"
      ],
      "text/plain": [
       "          user_id problem_id  attempts_range\n",
       "count      155295     155295   155295.000000\n",
       "unique       3529       5776             NaN\n",
       "top     user_1009  prob_5071             NaN\n",
       "freq          105       1365             NaN\n",
       "mean          NaN        NaN        1.755028\n",
       "std           NaN        NaN        1.078450\n",
       "min           NaN        NaN        1.000000\n",
       "25%           NaN        NaN        1.000000\n",
       "50%           NaN        NaN        1.000000\n",
       "75%           NaN        NaN        2.000000\n",
       "max           NaN        NaN        6.000000"
      ]
     },
     "execution_count": 61,
     "metadata": {},
     "output_type": "execute_result"
    }
   ],
   "source": [
    "train_submission_data_orig.describe(include='all')"
   ]
  },
  {
   "cell_type": "code",
   "execution_count": 62,
   "metadata": {},
   "outputs": [],
   "source": [
    "train_submission_data = train_submission_data_orig.copy()\n",
    "train_submission_data['problem_id'] = list(map(lambda x: int(x.split('_')[1]),train_submission_data['problem_id']))\n",
    "train_submission_data['user_id'] = list(map(lambda x: int(x.split('_')[1]),train_submission_data['user_id']))\n",
    "#train_submission_data.isnull().any(axis=1)"
   ]
  },
  {
   "cell_type": "code",
   "execution_count": 63,
   "metadata": {},
   "outputs": [
    {
     "name": "stdout",
     "output_type": "stream",
     "text": [
      "0         1\n",
      "1         3\n",
      "2         1\n",
      "3         1\n",
      "4         1\n",
      "5         1\n",
      "6         1\n",
      "7         2\n",
      "8         1\n",
      "9         1\n",
      "10        1\n",
      "11        2\n",
      "12        1\n",
      "13        1\n",
      "14        2\n",
      "15        2\n",
      "16        1\n",
      "17        1\n",
      "18        1\n",
      "19        2\n",
      "20        1\n",
      "21        2\n",
      "22        1\n",
      "23        1\n",
      "24        1\n",
      "25        1\n",
      "26        1\n",
      "27        4\n",
      "28        1\n",
      "29        1\n",
      "         ..\n",
      "155265    1\n",
      "155266    1\n",
      "155267    1\n",
      "155268    2\n",
      "155269    2\n",
      "155270    2\n",
      "155271    4\n",
      "155272    1\n",
      "155273    1\n",
      "155274    2\n",
      "155275    1\n",
      "155276    3\n",
      "155277    1\n",
      "155278    1\n",
      "155279    1\n",
      "155280    1\n",
      "155281    1\n",
      "155282    1\n",
      "155283    1\n",
      "155284    1\n",
      "155285    1\n",
      "155286    1\n",
      "155287    2\n",
      "155288    1\n",
      "155289    2\n",
      "155290    1\n",
      "155291    6\n",
      "155292    1\n",
      "155293    2\n",
      "155294    2\n",
      "Name: attempts_range, Length: 155295, dtype: int64\n"
     ]
    }
   ],
   "source": [
    "y_train = train_submission_data['attempts_range']\n",
    "print(y_train)\n",
    "Y=y_train\n",
    "train_submission_data = train_submission_data.drop(['attempts_range'],axis =1)"
   ]
  },
  {
   "cell_type": "markdown",
   "metadata": {},
   "source": [
    "Merge the three training tables to form one singular table"
   ]
  },
  {
   "cell_type": "code",
   "execution_count": 64,
   "metadata": {},
   "outputs": [
    {
     "name": "stdout",
     "output_type": "stream",
     "text": [
      "(155295, 14)\n",
      "<class 'pandas.core.frame.DataFrame'>\n",
      "Int64Index: 155295 entries, 0 to 155294\n",
      "Data columns (total 14 columns):\n",
      "user_id              155295 non-null int64\n",
      "problem_id           155295 non-null int64\n",
      "submission_count     155295 non-null int64\n",
      "problem_solved       155295 non-null int64\n",
      "contribution         155295 non-null int64\n",
      "max_rating           155295 non-null float64\n",
      "rating               155295 non-null float64\n",
      "rank_advanced        155295 non-null uint8\n",
      "rank_beginner        155295 non-null uint8\n",
      "rank_expert          155295 non-null uint8\n",
      "rank_intermediate    155295 non-null uint8\n",
      "level_type           155295 non-null int64\n",
      "points               155295 non-null int64\n",
      "error_submission     155295 non-null int64\n",
      "dtypes: float64(2), int64(8), uint8(4)\n",
      "memory usage: 13.6 MB\n"
     ]
    },
    {
     "data": {
      "text/html": [
       "<div>\n",
       "<style scoped>\n",
       "    .dataframe tbody tr th:only-of-type {\n",
       "        vertical-align: middle;\n",
       "    }\n",
       "\n",
       "    .dataframe tbody tr th {\n",
       "        vertical-align: top;\n",
       "    }\n",
       "\n",
       "    .dataframe thead th {\n",
       "        text-align: right;\n",
       "    }\n",
       "</style>\n",
       "<table border=\"1\" class=\"dataframe\">\n",
       "  <thead>\n",
       "    <tr style=\"text-align: right;\">\n",
       "      <th></th>\n",
       "      <th>user_id</th>\n",
       "      <th>problem_id</th>\n",
       "      <th>submission_count</th>\n",
       "      <th>problem_solved</th>\n",
       "      <th>contribution</th>\n",
       "      <th>max_rating</th>\n",
       "      <th>rating</th>\n",
       "      <th>rank_advanced</th>\n",
       "      <th>rank_beginner</th>\n",
       "      <th>rank_expert</th>\n",
       "      <th>rank_intermediate</th>\n",
       "      <th>level_type</th>\n",
       "      <th>points</th>\n",
       "      <th>error_submission</th>\n",
       "    </tr>\n",
       "  </thead>\n",
       "  <tbody>\n",
       "    <tr>\n",
       "      <th>0</th>\n",
       "      <td>232</td>\n",
       "      <td>6507</td>\n",
       "      <td>53</td>\n",
       "      <td>47</td>\n",
       "      <td>0</td>\n",
       "      <td>307.913</td>\n",
       "      <td>206.709</td>\n",
       "      <td>0</td>\n",
       "      <td>1</td>\n",
       "      <td>0</td>\n",
       "      <td>0</td>\n",
       "      <td>1000</td>\n",
       "      <td>1000</td>\n",
       "      <td>6</td>\n",
       "    </tr>\n",
       "    <tr>\n",
       "      <th>1</th>\n",
       "      <td>1910</td>\n",
       "      <td>6507</td>\n",
       "      <td>240</td>\n",
       "      <td>218</td>\n",
       "      <td>0</td>\n",
       "      <td>319.954</td>\n",
       "      <td>291.284</td>\n",
       "      <td>0</td>\n",
       "      <td>1</td>\n",
       "      <td>0</td>\n",
       "      <td>0</td>\n",
       "      <td>1000</td>\n",
       "      <td>1000</td>\n",
       "      <td>22</td>\n",
       "    </tr>\n",
       "    <tr>\n",
       "      <th>2</th>\n",
       "      <td>1824</td>\n",
       "      <td>6507</td>\n",
       "      <td>370</td>\n",
       "      <td>336</td>\n",
       "      <td>0</td>\n",
       "      <td>307.339</td>\n",
       "      <td>295.585</td>\n",
       "      <td>0</td>\n",
       "      <td>1</td>\n",
       "      <td>0</td>\n",
       "      <td>0</td>\n",
       "      <td>1000</td>\n",
       "      <td>1000</td>\n",
       "      <td>34</td>\n",
       "    </tr>\n",
       "    <tr>\n",
       "      <th>3</th>\n",
       "      <td>895</td>\n",
       "      <td>6507</td>\n",
       "      <td>318</td>\n",
       "      <td>286</td>\n",
       "      <td>0</td>\n",
       "      <td>304.186</td>\n",
       "      <td>191.514</td>\n",
       "      <td>0</td>\n",
       "      <td>1</td>\n",
       "      <td>0</td>\n",
       "      <td>0</td>\n",
       "      <td>1000</td>\n",
       "      <td>1000</td>\n",
       "      <td>32</td>\n",
       "    </tr>\n",
       "    <tr>\n",
       "      <th>4</th>\n",
       "      <td>779</td>\n",
       "      <td>6507</td>\n",
       "      <td>463</td>\n",
       "      <td>410</td>\n",
       "      <td>0</td>\n",
       "      <td>374.713</td>\n",
       "      <td>374.713</td>\n",
       "      <td>0</td>\n",
       "      <td>0</td>\n",
       "      <td>0</td>\n",
       "      <td>1</td>\n",
       "      <td>1000</td>\n",
       "      <td>1000</td>\n",
       "      <td>53</td>\n",
       "    </tr>\n",
       "  </tbody>\n",
       "</table>\n",
       "</div>"
      ],
      "text/plain": [
       "   user_id  problem_id  submission_count  problem_solved  contribution  \\\n",
       "0      232        6507                53              47             0   \n",
       "1     1910        6507               240             218             0   \n",
       "2     1824        6507               370             336             0   \n",
       "3      895        6507               318             286             0   \n",
       "4      779        6507               463             410             0   \n",
       "\n",
       "   max_rating   rating  rank_advanced  rank_beginner  rank_expert  \\\n",
       "0     307.913  206.709              0              1            0   \n",
       "1     319.954  291.284              0              1            0   \n",
       "2     307.339  295.585              0              1            0   \n",
       "3     304.186  191.514              0              1            0   \n",
       "4     374.713  374.713              0              0            0   \n",
       "\n",
       "   rank_intermediate  level_type  points  error_submission  \n",
       "0                  0        1000    1000                 6  \n",
       "1                  0        1000    1000                22  \n",
       "2                  0        1000    1000                34  \n",
       "3                  0        1000    1000                32  \n",
       "4                  1        1000    1000                53  "
      ]
     },
     "execution_count": 64,
     "metadata": {},
     "output_type": "execute_result"
    }
   ],
   "source": [
    "merge_train = pd.merge(train_submission_data,train_user_data,how=\"inner\",left_on='user_id',right_on='user_id')\n",
    "merge_train = pd.merge(merge_train,train_problem_data,how=\"inner\",left_on='problem_id',right_on='problem_id')\n",
    "merge_train['error_submission'] = np.abs(merge_train['problem_solved'] - merge_train['submission_count'])\n",
    "#merge_train['rating-diff'] = np.abs(merge_train['max_rating'] - merge_train['rating'])\n",
    "merge_train['level_type'] = merge_train['level_type'] * merge_train['points']\n",
    "#merge_train = merge_train.drop(['problem_solved','submission_count'],axis=1)\n",
    "print(merge_train.shape)\n",
    "merge_train.info()\n",
    "merge_train.head()"
   ]
  },
  {
   "cell_type": "markdown",
   "metadata": {},
   "source": [
    "Processing test data\n"
   ]
  },
  {
   "cell_type": "code",
   "execution_count": 65,
   "metadata": {},
   "outputs": [
    {
     "name": "stdout",
     "output_type": "stream",
     "text": [
      "(66555, 3)\n"
     ]
    }
   ],
   "source": [
    "print(test_submission_data_orig.shape)\n",
    "list(test_submission_data_orig)\n",
    "test_submission_data = test_submission_data_orig.copy()\n",
    "test_id = pd.DataFrame(test_submission_data['ID'])\n",
    "test_submission_data = test_submission_data.drop(['ID'],axis=1)\n",
    "list(test_submission_data)\n",
    "test_submission_data['problem_id'] = list(map(lambda x: int(x.split('_')[1]),test_submission_data['problem_id']))\n",
    "test_submission_data['user_id'] = list(map(lambda x: int(x.split('_')[1]),test_submission_data['user_id']))"
   ]
  },
  {
   "cell_type": "code",
   "execution_count": 66,
   "metadata": {},
   "outputs": [],
   "source": [
    "merge_test = pd.merge(test_submission_data,train_user_data,how=\"inner\",left_on='user_id',right_on='user_id')\n",
    "merge_test = pd.merge(merge_test,train_problem_data,how=\"inner\",left_on='problem_id',right_on='problem_id') \n",
    "merge_test['error_submission'] = np.abs(merge_test['problem_solved'] - merge_test['submission_count'])\n",
    "#merge_test['rating-diff'] = np.abs(merge_test['max_rating'] - merge_test['rating'])\n",
    "merge_test['level_type'] = (merge_test['level_type'] * merge_test['points'])\n",
    "#merge_test = merge_test.drop(['problem_solved','submission_count'],axis=1)"
   ]
  },
  {
   "cell_type": "code",
   "execution_count": 67,
   "metadata": {},
   "outputs": [
    {
     "name": "stdout",
     "output_type": "stream",
     "text": [
      "               Specs          Score\n",
      "11        level_type  109376.278590\n",
      "1         problem_id    8543.237300\n",
      "0            user_id    5366.172983\n",
      "3     problem_solved    3764.117865\n",
      "2   submission_count    3679.564019\n",
      "12            points    1831.788853\n",
      "4       contribution     314.697116\n",
      "6             rating     274.891839\n",
      "5         max_rating     153.548899\n",
      "13  error_submission     137.610719\n"
     ]
    }
   ],
   "source": [
    "#apply SelectKBest class to extract top 10 best features\n",
    "bestfeatures = SelectKBest(score_func=chi2, k=10)\n",
    "fit = bestfeatures.fit(merge_train,y_train)\n",
    "dfscores = pd.DataFrame(fit.scores_)\n",
    "dfcolumns = pd.DataFrame(merge_train.columns)\n",
    "#concat two dataframes for better visualization \n",
    "featureScores = pd.concat([dfcolumns,dfscores],axis=1)\n",
    "featureScores.columns = ['Specs','Score']  #naming the dataframe columns\n",
    "print(featureScores.nlargest(10,'Score'))  #print 10 best features"
   ]
  },
  {
   "cell_type": "code",
   "execution_count": 68,
   "metadata": {},
   "outputs": [
    {
     "name": "stdout",
     "output_type": "stream",
     "text": [
      "<class 'pandas.core.frame.DataFrame'>\n",
      "Int64Index: 155295 entries, 0 to 155294\n",
      "Data columns (total 10 columns):\n",
      "user_id              155295 non-null int64\n",
      "problem_id           155295 non-null int64\n",
      "submission_count     155295 non-null int64\n",
      "problem_solved       155295 non-null int64\n",
      "rank_advanced        155295 non-null uint8\n",
      "rank_beginner        155295 non-null uint8\n",
      "rank_expert          155295 non-null uint8\n",
      "rank_intermediate    155295 non-null uint8\n",
      "level_type           155295 non-null int64\n",
      "error_submission     155295 non-null int64\n",
      "dtypes: int64(6), uint8(4)\n",
      "memory usage: 8.9 MB\n",
      "<class 'pandas.core.frame.DataFrame'>\n",
      "Int64Index: 66555 entries, 0 to 66554\n",
      "Data columns (total 10 columns):\n",
      "user_id              66555 non-null int64\n",
      "problem_id           66555 non-null int64\n",
      "submission_count     66555 non-null int64\n",
      "problem_solved       66555 non-null int64\n",
      "rank_advanced        66555 non-null uint8\n",
      "rank_beginner        66555 non-null uint8\n",
      "rank_expert          66555 non-null uint8\n",
      "rank_intermediate    66555 non-null uint8\n",
      "level_type           66555 non-null int64\n",
      "error_submission     66555 non-null int64\n",
      "dtypes: int64(6), uint8(4)\n",
      "memory usage: 3.8 MB\n"
     ]
    }
   ],
   "source": [
    "merge_train = merge_train.drop(['max_rating','rating','contribution','points'],axis=1)\n",
    "merge_test = merge_test.drop(['max_rating','rating','contribution','points'],axis=1)\n",
    "merge_train.info()\n",
    "merge_test.info()\n",
    "X=merge_train"
   ]
  },
  {
   "cell_type": "code",
   "execution_count": 69,
   "metadata": {},
   "outputs": [
    {
     "name": "stdout",
     "output_type": "stream",
     "text": [
      "[[-1.50676836  1.70430221 -0.80168947 ... -0.86551316 -0.29217164\n",
      "  -0.92101471]\n",
      " [ 0.12849615  1.70430221 -0.33208052 ... -0.86551316 -0.29217164\n",
      "  -0.4323639 ]\n",
      " [ 0.04468641  1.70430221 -0.00561441 ... -0.86551316 -0.29217164\n",
      "  -0.06587578]\n",
      " ...\n",
      " [-1.02340055  0.89968096 -0.63092258 ...  1.15538394 -0.40999795\n",
      "  -0.92101471]\n",
      " [ 0.48225122 -0.2692086   0.06470136 ...  1.15538394  2.06435473\n",
      "   0.8503445 ]\n",
      " [-1.22805224 -0.52299782 -0.86698269 ... -0.86551316  1.35739682\n",
      "  -0.82939269]]\n"
     ]
    },
    {
     "name": "stderr",
     "output_type": "stream",
     "text": [
      "C:\\Users\\Srividya\\Anaconda3\\lib\\site-packages\\sklearn\\preprocessing\\data.py:645: DataConversionWarning: Data with input dtype uint8, int64 were all converted to float64 by StandardScaler.\n",
      "  return self.partial_fit(X, y)\n",
      "C:\\Users\\Srividya\\Anaconda3\\lib\\site-packages\\sklearn\\base.py:464: DataConversionWarning: Data with input dtype uint8, int64 were all converted to float64 by StandardScaler.\n",
      "  return self.fit(X, **fit_params).transform(X)\n",
      "C:\\Users\\Srividya\\Anaconda3\\lib\\site-packages\\sklearn\\preprocessing\\data.py:645: DataConversionWarning: Data with input dtype uint8, int64 were all converted to float64 by StandardScaler.\n",
      "  return self.partial_fit(X, y)\n",
      "C:\\Users\\Srividya\\Anaconda3\\lib\\site-packages\\sklearn\\base.py:464: DataConversionWarning: Data with input dtype uint8, int64 were all converted to float64 by StandardScaler.\n",
      "  return self.fit(X, **fit_params).transform(X)\n"
     ]
    }
   ],
   "source": [
    "# Feature Scaling\n",
    "scaler = StandardScaler()\n",
    "merge_train = scaler.fit_transform(merge_train)\n",
    "merge_test = scaler.fit_transform(merge_test)\n",
    "print(merge_train)"
   ]
  },
  {
   "cell_type": "code",
   "execution_count": 70,
   "metadata": {},
   "outputs": [],
   "source": [
    "x_train, x_cv, y_train, y_cv = train_test_split(merge_train,y_train, test_size =0.4)"
   ]
  },
  {
   "cell_type": "code",
   "execution_count": 26,
   "metadata": {},
   "outputs": [
    {
     "data": {
      "text/plain": [
       "'model = LogisticRegression(multi_class=\\'multinomial\\',solver=\\'newton-cg\\',max_iter=500)\\nmodel.fit(x_train, y_train)\\n\\npred_cv = model.predict(x_cv)\\nprint(pred_cv)\\nprint(\\'F1 Score is\\',f1_score(y_cv,pred_cv,average=\\'micro\\'))\\n#make predictions on the test data\\npred = model.predict(merge_test)\\nsubmission = pd.DataFrame({\\n        \"ID\": test_submission_data_orig[\\'ID\\'],\\n        \"attempts_range\": pred\\n    })\\nsubmission.to_csv(\\'C:/Python/Recommendation_Engine/data/RE_LogReg_submission.csv.csv\\', index=False)\\n'"
      ]
     },
     "execution_count": 26,
     "metadata": {},
     "output_type": "execute_result"
    }
   ],
   "source": [
    "'''model = LogisticRegression(multi_class='multinomial',solver='newton-cg',max_iter=500)\n",
    "model.fit(x_train, y_train)\n",
    "\n",
    "pred_cv = model.predict(x_cv)\n",
    "print(pred_cv)\n",
    "print('F1 Score is',f1_score(y_cv,pred_cv,average='micro'))\n",
    "#make predictions on the test data\n",
    "pred = model.predict(merge_test)\n",
    "submission = pd.DataFrame({\n",
    "        \"ID\": test_submission_data_orig['ID'],\n",
    "        \"attempts_range\": pred\n",
    "    })\n",
    "submission.to_csv('C:/Python/Recommendation_Engine/data/RE_LogReg_submission.csv.csv', index=False)\n",
    "'''"
   ]
  },
  {
   "cell_type": "code",
   "execution_count": 27,
   "metadata": {},
   "outputs": [
    {
     "name": "stdout",
     "output_type": "stream",
     "text": [
      "[1 1 2 ... 1 1 1]\n",
      "F1 Score is 0.41254474405534197\n"
     ]
    }
   ],
   "source": [
    "# Fitting Random Forest Classification to the Training set\n",
    "\n",
    "#kf = KFold(n_splits=5)\n",
    "model = RandomForestClassifier(n_estimators =150, criterion = 'gini',max_features=7)\n",
    "model.fit(x_train, y_train)\n",
    "pred_cv = model.predict(x_cv)\n",
    "print(pred_cv)\n",
    "print('F1 Score is',f1_score(y_cv,pred_cv,average='weighted'))\n",
    "#make predictions on the test data\n",
    "pred = model.predict(merge_test)\n",
    "submission = pd.DataFrame({\n",
    "        \"ID\": test_submission_data_orig['ID'],\n",
    "        \"attempts_range\": pred\n",
    "    })\n",
    "submission.to_csv('C:/Python/Recommendation_Engine/data/RE_RdForest_submission.csv.csv', index=False)"
   ]
  },
  {
   "cell_type": "code",
   "execution_count": 28,
   "metadata": {},
   "outputs": [
    {
     "name": "stdout",
     "output_type": "stream",
     "text": [
      "[0.13383372 0.43267467 0.09771902 0.09850658 0.00950222 0.01078888\n",
      " 0.00255843 0.01323755 0.10460802 0.0965709 ]\n"
     ]
    },
    {
     "data": {
      "image/png": "[encoded data removed]",
      "text/plain": [
       "<Figure size 432x288 with 1 Axes>"
      ]
     },
     "metadata": {
      "needs_background": "light"
     },
     "output_type": "display_data"
    }
   ],
   "source": [
    "print(model.feature_importances_) #use inbuilt class feature_importances of tree based classifiers\n",
    "#plot graph of feature importances for better visualization\n",
    "feat_importances = pd.Series(model.feature_importances_, index=X.columns)\n",
    "feat_importances.nlargest(10).plot(kind='barh')\n",
    "plt.show()"
   ]
  },
  {
   "cell_type": "code",
   "execution_count": 40,
   "metadata": {},
   "outputs": [
    {
     "name": "stdout",
     "output_type": "stream",
     "text": [
      "[(array([-1.50676836,  1.70430221, -0.80168947, -0.76602035, -0.49286593,\n",
      "        1.38538747, -0.18683344, -0.86551316, -0.29217164, -0.22579481,\n",
      "       -0.92101471]), 0.12893844057075893), (array([ 0.12849615,  1.70430221, -0.33208052, -0.31289294, -0.49286593,\n",
      "        1.38538747, -0.18683344, -0.86551316, -0.29217164, -0.22579481,\n",
      "       -0.4323639 ]), 0.437828581246283), (array([ 4.46864054e-02,  1.70430221e+00, -5.61441468e-03, -2.08532377e-04,\n",
      "       -4.92865932e-01,  1.38538747e+00, -1.86833443e-01, -8.65513158e-01,\n",
      "       -2.92171636e-01, -2.25794815e-01, -6.58757831e-02]), 0.09657444980852278), (array([-0.86065372,  1.70430221, -0.13620086, -0.13270193, -0.49286593,\n",
      "        1.38538747, -0.18683344, -0.86551316, -0.29217164, -0.22579481,\n",
      "       -0.12695714]), 0.09693363851649475), (array([-0.97369942,  1.70430221,  0.22793442,  0.19588169, -0.49286593,\n",
      "       -0.72181972, -0.18683344,  1.15538394, -0.29217164, -0.22579481,\n",
      "        0.51439706]), 0.00916388669387664), (array([ 0.45593886,  1.70430221, -0.48024591, -0.5142829 , -0.49286593,\n",
      "        1.38538747, -0.18683344, -0.86551316, -0.29217164, -0.22579481,\n",
      "        0.0868276 ]), 0.011100710880194032), (array([ 0.50076733,  1.70430221, -0.79164436, -0.78986916, -0.49286593,\n",
      "        1.38538747, -0.18683344, -0.86551316, -0.29217164, -0.22579481,\n",
      "       -0.52398593]), 0.002605478271601184), (array([-1.43172941,  1.70430221,  1.09432525,  0.98554232, -0.49286593,\n",
      "       -0.72181972, -0.18683344,  1.15538394, -0.29217164, -0.22579481,\n",
      "        1.94980884]), 0.012986575412176156), (array([ 1.59614118,  1.70430221, -0.45262186, -0.40298845, -0.49286593,\n",
      "        1.38538747, -0.18683344, -0.86551316, -0.29217164, -0.22579481,\n",
      "       -0.85993336]), 0.05460535017749365), (array([-1.06627995,  1.70430221, -0.56311808, -0.56728026, -0.49286593,\n",
      "        1.38538747, -0.18683344, -0.86551316, -0.29217164, -0.22579481,\n",
      "       -0.31020119]), 0.05457967190930905), (array([-0.15606716,  1.70430221,  1.43585902,  1.43866973,  2.02894933,\n",
      "       -0.72181972, -0.18683344, -0.86551316, -0.29217164, -0.22579481,\n",
      "        0.88088518]), 0.09468321651328988)]\n"
     ]
    }
   ],
   "source": [
    "print(list(zip(merge_train, model.feature_importances_)))\n",
    "#joblib.dump(model, 'randomforestmodel.pkl') "
   ]
  },
  {
   "cell_type": "code",
   "execution_count": null,
   "metadata": {},
   "outputs": [],
   "source": [
    "'''from sklearn.ensemble import AdaBoostClassifier\n",
    "model = AdaBoostClassifier(n_estimators=100, base_estimator=dt,learning_rate=1) \n",
    "model.fit(x_train, y_train)\n",
    "pred_cv = clf.predict(x_cv)\n",
    "print(pred_cv)\n",
    "print('F1 Score is',f1_score(y_cv,pred_cv,average='micro'))\n",
    "#make predictions on the test data\n",
    "pred = model.predict(merge_test)\n",
    "submission = pd.DataFrame({\n",
    "        \"ID\": test_submission_data_orig['ID'],\n",
    "        \"attempts_range\": pred\n",
    "    })\n",
    "submission.to_csv('C:/Python/Recommendation_Engine/data/RE_AdaBoost_submission.csv.csv', index=False)\n",
    "'''"
   ]
  },
  {
   "cell_type": "code",
   "execution_count": 29,
   "metadata": {},
   "outputs": [
    {
     "name": "stdout",
     "output_type": "stream",
     "text": [
      "[1 1 1 ... 1 2 3]\n",
      "F1 Score is 0.3823046459963296\n"
     ]
    }
   ],
   "source": [
    "from sklearn.tree import DecisionTreeClassifier\n",
    "model = DecisionTreeClassifier()\n",
    "model.fit(x_train, y_train)\n",
    "pred_cv = model.predict(x_cv)\n",
    "print(pred_cv)\n",
    "print('F1 Score is',f1_score(y_cv,pred_cv,average='micro'))\n",
    "#make predictions on the test data\n",
    "pred = model.predict(merge_test)\n",
    "submission = pd.DataFrame({\n",
    "        \"ID\": test_submission_data_orig['ID'],\n",
    "        \"attempts_range\": pred\n",
    "    })\n",
    "submission.to_csv('C:/Python/Recommendation_Engine/data/RE_DecTree_submission.csv.csv', index=False)\n"
   ]
  },
  {
   "cell_type": "code",
   "execution_count": null,
   "metadata": {},
   "outputs": [],
   "source": [
    "'''import xgboost as xgb\n",
    "model=xgb.XGBClassifier(random_state=1,learning_rate=0.01)\n",
    "model.fit(x_train, y_train)\n",
    "pred_cv = model.predict(x_cv)\n",
    "print(pred_cv)\n",
    "#print('F1 Score is',f1_score(y_cv,pred_cv,average='weighted'))\n",
    "#make predictions on the test data\n",
    "pred = model.predict(merge_test)\n",
    "submission = pd.DataFrame({\n",
    "        \"ID\": test_submission_data_orig['ID'],\n",
    "        \"attempts_range\": pred\n",
    "    })\n",
    "submission.to_csv('C:/Python/Recommendation_Engine/data/RE_XGBoost_submission.csv.csv', index=False)\n",
    "best_f_score = do_train(param, dtrain,'train',trainY,dtest,'test',testY)\n",
    "'''"
   ]
  },
  {
   "cell_type": "code",
   "execution_count": 74,
   "metadata": {},
   "outputs": [
    {
     "name": "stdout",
     "output_type": "stream",
     "text": [
      "[3 3 3 ... 3 2 2]\n",
      "[[1.78542661e+03 1.51962894e+03 3.17227704e+02 2.83954919e+02\n",
      "  1.46961992e-01 4.04980768e-01 1.92809179e-02 4.28776322e-01\n",
      "  9.34953387e+02 3.32727851e+01]\n",
      " [1.78680029e+03 3.13530048e+03 6.33024551e+02 5.79135581e+02\n",
      "  3.74496152e-01 1.35580799e-01 8.68449982e-02 4.03078051e-01\n",
      "  4.46317332e+04 5.38889703e+01]\n",
      " [1.76970888e+03 3.27581371e+03 6.36337891e+02 5.84173603e+02\n",
      "  4.10225922e-01 1.14546175e-01 1.15933413e-01 3.59294491e-01\n",
      "  1.98862465e+04 5.21642885e+01]\n",
      " [1.77744521e+03 4.86814013e+03 3.40257349e+02 3.05665119e+02\n",
      "  1.59428283e-01 3.83580741e-01 2.27798459e-02 4.34211131e-01\n",
      "  9.29607672e+02 3.45922300e+01]\n",
      " [1.75968110e+03 3.17470634e+03 5.32337193e+02 4.89369745e+02\n",
      "  3.74813637e-01 1.11768214e-01 8.33913130e-02 4.30026836e-01\n",
      "  7.23188550e+03 4.29674486e+01]\n",
      " [1.76443137e+03 3.45443268e+03 6.29233987e+02 5.76211765e+02\n",
      "  3.83006536e-01 1.46405229e-01 8.88888889e-02 3.81699346e-01\n",
      "  7.14562092e+04 5.30222222e+01]]\n"
     ]
    }
   ],
   "source": [
    "from sklearn.cluster import KMeans\n",
    "\n",
    "kmeans = KMeans(n_clusters=6).fit(X)\n",
    "print(kmeans.labels_)\n",
    "print(kmeans.cluster_centers_)\n",
    "#plt.scatter(x=X['user_id'],y=y_train,c=kmeans.labels_)"
   ]
  },
  {
   "cell_type": "code",
   "execution_count": 83,
   "metadata": {},
   "outputs": [
    {
     "ename": "ValueError",
     "evalue": "cannot reshape array of size 155295 into shape (2,1)",
     "output_type": "error",
     "traceback": [
      "\u001b[1;31m---------------------------------------------------------------------------\u001b[0m",
      "\u001b[1;31mValueError\u001b[0m                                Traceback (most recent call last)",
      "\u001b[1;32m<ipython-input-83-beaa7a9ec6a7>\u001b[0m in \u001b[0;36m<module>\u001b[1;34m\u001b[0m\n\u001b[0;32m      1\u001b[0m \u001b[1;32mfrom\u001b[0m \u001b[0msklearn\u001b[0m\u001b[1;33m.\u001b[0m\u001b[0mdecomposition\u001b[0m \u001b[1;32mimport\u001b[0m \u001b[0mPCA\u001b[0m\u001b[1;33m\u001b[0m\u001b[1;33m\u001b[0m\u001b[0m\n\u001b[0;32m      2\u001b[0m \u001b[0mpca\u001b[0m \u001b[1;33m=\u001b[0m \u001b[0mPCA\u001b[0m\u001b[1;33m(\u001b[0m\u001b[0mn_components\u001b[0m\u001b[1;33m=\u001b[0m\u001b[1;36m1\u001b[0m\u001b[1;33m)\u001b[0m\u001b[1;33m.\u001b[0m\u001b[0mfit\u001b[0m\u001b[1;33m(\u001b[0m\u001b[0mX\u001b[0m\u001b[1;33m)\u001b[0m\u001b[1;33m\u001b[0m\u001b[1;33m\u001b[0m\u001b[0m\n\u001b[1;32m----> 3\u001b[1;33m \u001b[0mY\u001b[0m\u001b[1;33m=\u001b[0m\u001b[0mY\u001b[0m\u001b[1;33m.\u001b[0m\u001b[0mreshape\u001b[0m\u001b[1;33m(\u001b[0m\u001b[1;36m2\u001b[0m\u001b[1;33m,\u001b[0m\u001b[1;36m1\u001b[0m\u001b[1;33m)\u001b[0m\u001b[1;33m\u001b[0m\u001b[1;33m\u001b[0m\u001b[0m\n\u001b[0m\u001b[0;32m      4\u001b[0m \u001b[0mpca_d\u001b[0m \u001b[1;33m=\u001b[0m \u001b[0mpca\u001b[0m\u001b[1;33m.\u001b[0m\u001b[0mtransform\u001b[0m\u001b[1;33m(\u001b[0m\u001b[0mY\u001b[0m\u001b[1;33m)\u001b[0m\u001b[1;33m\u001b[0m\u001b[1;33m\u001b[0m\u001b[0m\n\u001b[0;32m      5\u001b[0m \u001b[1;33m\u001b[0m\u001b[0m\n",
      "\u001b[1;31mValueError\u001b[0m: cannot reshape array of size 155295 into shape (2,1)"
     ]
    }
   ],
   "source": [
    "from sklearn.decomposition import PCA\n",
    "pca = PCA(n_components=1).fit(X)\n",
    "Y=Y.reshape(2,1)\n",
    "pca_d = pca.transform(Y)\n",
    "\n",
    "pca_c = pca.transform(X)\n",
    "\n",
    "plt.figure('3 Cluster K-Means')\n",
    "\n",
    "plt.scatter(pca_c[:, 0], pca_d[:, 0], c=kmeans.labels_)\n",
    "\n",
    "plt.xlabel('user Problem ID')\n",
    "\n",
    "plt.ylabel('Atempts')\n",
    "\n",
    "plt.title('3 Cluster K-Means')\n",
    "\n",
    "plt.show()"
   ]
  },
  {
   "cell_type": "code",
   "execution_count": null,
   "metadata": {},
   "outputs": [],
   "source": [
    "# y = np.array(y_train)\n",
    "# correct = 0\n",
    "# for i in range(len(merge_train)):\n",
    "#     predict_me = np.array(merge_train[i].astype(float))\n",
    "#     predict_me = predict_me.reshape(-1, len(predict_me))\n",
    "#     prediction = kmeans.predict(predict_me)\n",
    "    \n",
    "# #     if prediction[0] == y[i]:\n",
    "# #         correct += 1\n",
    "# print(len(prediction))\n",
    "# print(correct/len(X))"
   ]
  },
  {
   "cell_type": "code",
   "execution_count": null,
   "metadata": {},
   "outputs": [],
   "source": []
  }
 ],
 "metadata": {
  "kernelspec": {
   "display_name": "Python 3",
   "language": "python",
   "name": "python3"
  },
  "language_info": {
   "codemirror_mode": {
    "name": "ipython",
    "version": 3
   },
   "file_extension": ".py",
   "mimetype": "text/x-python",
   "name": "python",
   "nbconvert_exporter": "python",
   "pygments_lexer": "ipython3",
   "version": "3.7.3"
  }
 },
 "nbformat": 4,
 "nbformat_minor": 2
}
